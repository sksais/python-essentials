{
 "cells": [
  {
   "cell_type": "markdown",
   "metadata": {},
   "source": [
    "# Answer 1"
   ]
  },
  {
   "cell_type": "code",
   "execution_count": 38,
   "metadata": {},
   "outputs": [],
   "source": [
    "class account():\n",
    "    def __init__(self,name,balance):\n",
    "        self.name=name\n",
    "        self.balance=balance\n",
    "        \n",
    "    def deposit(self):\n",
    "        amount=int(input(\"enter the amount to deposit :\"))\n",
    "        self.balance+=amount\n",
    "        print(\"name:\",self.name,\"   new balance: \",self.balance)\n",
    "        \n",
    "    def withdraw(self):\n",
    "        amount=int(input(\"enter the amount to withdraw :\"))\n",
    "        if (amount>self.balance):\n",
    "            print (\"insufficient balance\")\n",
    "        else:\n",
    "            self.balance-=amount\n",
    "        print(\"balance is:\",self.balance)\n",
    "        \n",
    "        \n",
    "    "
   ]
  },
  {
   "cell_type": "code",
   "execution_count": 39,
   "metadata": {},
   "outputs": [],
   "source": [
    "a=account(\"abc\",100)"
   ]
  },
  {
   "cell_type": "code",
   "execution_count": 40,
   "metadata": {},
   "outputs": [
    {
     "name": "stdout",
     "output_type": "stream",
     "text": [
      "enter the amount to deposit :100\n",
      "name: abc    new balance:  200\n"
     ]
    }
   ],
   "source": [
    "a.deposit()"
   ]
  },
  {
   "cell_type": "code",
   "execution_count": 41,
   "metadata": {},
   "outputs": [
    {
     "name": "stdout",
     "output_type": "stream",
     "text": [
      "enter the amount to withdraw :500\n",
      "insufficient balance\n",
      "balance is: 200\n"
     ]
    }
   ],
   "source": [
    "a.withdraw()"
   ]
  },
  {
   "cell_type": "code",
   "execution_count": 42,
   "metadata": {},
   "outputs": [
    {
     "name": "stdout",
     "output_type": "stream",
     "text": [
      "enter the amount to withdraw :50\n",
      "balance is: 150\n"
     ]
    }
   ],
   "source": [
    "a.withdraw()"
   ]
  },
  {
   "cell_type": "markdown",
   "metadata": {},
   "source": [
    "# Answer 2\n"
   ]
  },
  {
   "cell_type": "code",
   "execution_count": 10,
   "metadata": {},
   "outputs": [],
   "source": [
    "import math\n",
    "class cone():\n",
    "    def __init__(self,radius,height):\n",
    "        self.radius=radius\n",
    "        self.height=height\n",
    "    \n",
    "    def volume(self):\n",
    "        self.volume=((22/8)*(self.radius**2)*(self.height/3))\n",
    "        print(\"The volume of the cone is :\",self.volume)\n",
    "    \n",
    "      \n",
    "    def surface(self):\n",
    "        surface=((22/7)*self.radius*(self.radius+(math.sqrt(self.height**2+self.radius**2))))\n",
    "        print(\"The surface area is :\",surface)\n",
    "            \n",
    "  \n",
    "        \n",
    "        \n",
    "    "
   ]
  },
  {
   "cell_type": "code",
   "execution_count": 11,
   "metadata": {},
   "outputs": [],
   "source": [
    "a=cone(6,10)"
   ]
  },
  {
   "cell_type": "code",
   "execution_count": 12,
   "metadata": {},
   "outputs": [
    {
     "name": "stdout",
     "output_type": "stream",
     "text": [
      "The volume of the cone is : 330.0\n"
     ]
    }
   ],
   "source": [
    "a.volume()"
   ]
  },
  {
   "cell_type": "code",
   "execution_count": 13,
   "metadata": {},
   "outputs": [
    {
     "name": "stdout",
     "output_type": "stream",
     "text": [
      "The surface area is : 333.0530428913085\n"
     ]
    }
   ],
   "source": [
    "a.surface()"
   ]
  },
  {
   "cell_type": "code",
   "execution_count": null,
   "metadata": {},
   "outputs": [],
   "source": []
  }
 ],
 "metadata": {
  "kernelspec": {
   "display_name": "Python 3",
   "language": "python",
   "name": "python3"
  },
  "language_info": {
   "codemirror_mode": {
    "name": "ipython",
    "version": 3
   },
   "file_extension": ".py",
   "mimetype": "text/x-python",
   "name": "python",
   "nbconvert_exporter": "python",
   "pygments_lexer": "ipython3",
   "version": "3.8.3"
  }
 },
 "nbformat": 4,
 "nbformat_minor": 4
}
